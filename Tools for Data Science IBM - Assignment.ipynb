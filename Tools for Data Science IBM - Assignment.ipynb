{
 "cells": [
  {
   "cell_type": "markdown",
   "id": "cba89136",
   "metadata": {},
   "source": [
    "### Tool for Data Science IBM - Assignment"
   ]
  },
  {
   "cell_type": "markdown",
   "id": "d84a5e8b",
   "metadata": {},
   "source": [
    "Tool for Data Science will help us to practice our Data Science skills."
   ]
  },
  {
   "cell_type": "markdown",
   "id": "ebd5e818",
   "metadata": {},
   "source": [
    "List of most popular data science languages:\n",
    "Python,\n",
    "R,\n",
    "SQL,\n",
    "Java,\n",
    "Julia,\n",
    "Scala,\n",
    "C/C++,\n",
    "JavaScript,\n",
    "Swift,\n",
    "Go,\n",
    "MATLAB,\n",
    "SAS"
   ]
  },
  {
   "cell_type": "markdown",
   "id": "7593fb85",
   "metadata": {},
   "source": [
    "Popular Data Science libraries: numpy, seaborn, matplotlib, PyTorch, TensorFlow, Keras, Theano"
   ]
  },
  {
   "cell_type": "markdown",
   "id": "d829803b",
   "metadata": {},
   "source": [
    "Data Science Tools: SAS, Apache Spark, BigML, D3.js, MATLAB, Tableau, PowerBI"
   ]
  },
  {
   "cell_type": "code",
   "execution_count": 2,
   "id": "518445ca",
   "metadata": {},
   "outputs": [
    {
     "name": "stdout",
     "output_type": "stream",
     "text": [
      "Sum 5\n",
      "Subtraction -1\n",
      "Multilication 6\n",
      "Divison 0.6666666666666666\n"
     ]
    }
   ],
   "source": [
    "### Here we have examples of basic arithmetic operations \n",
    "a=2\n",
    "b=3\n",
    "\n",
    "res1=a+b\n",
    "res2=a-b\n",
    "res3=a*b\n",
    "res4=a/b\n",
    "print(\"Sum\",res1)\n",
    "print(\"Subtraction\",res2)\n",
    "print(\"Multilication\",res3)\n",
    "print(\"Divison\",res4)"
   ]
  },
  {
   "cell_type": "code",
   "execution_count": 6,
   "id": "d86f1f69",
   "metadata": {},
   "outputs": [
    {
     "data": {
      "text/plain": [
       "'75 minutes converts to 1.25 hours'"
      ]
     },
     "execution_count": 6,
     "metadata": {},
     "output_type": "execute_result"
    }
   ],
   "source": [
    "#Code to convert minutes to hours\n",
    "def convert(minutes):\n",
    "    return f\"{minutes} minutes converts to {round(minutes/60, 2)} hours\"\n",
    "\n",
    "convert(75)"
   ]
  },
  {
   "cell_type": "markdown",
   "id": "06cc8a7e",
   "metadata": {},
   "source": [
    "### Objectives - we checked basic DS operations "
   ]
  },
  {
   "cell_type": "markdown",
   "id": "a16e93e7",
   "metadata": {},
   "source": [
    "Assignment Author: Rustam Bekishev"
   ]
  }
 ],
 "metadata": {
  "kernelspec": {
   "display_name": "Python 3",
   "language": "python",
   "name": "python3"
  },
  "language_info": {
   "codemirror_mode": {
    "name": "ipython",
    "version": 3
   },
   "file_extension": ".py",
   "mimetype": "text/x-python",
   "name": "python",
   "nbconvert_exporter": "python",
   "pygments_lexer": "ipython3",
   "version": "3.7.6"
  }
 },
 "nbformat": 4,
 "nbformat_minor": 5
}
